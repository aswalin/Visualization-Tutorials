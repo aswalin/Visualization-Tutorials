{
 "cells": [
  {
   "cell_type": "markdown",
   "metadata": {},
   "source": [
    "**Time-Series Visualization using Bokeh**"
   ]
  },
  {
   "cell_type": "markdown",
   "metadata": {},
   "source": [
    "### Import Libraries"
   ]
  },
  {
   "cell_type": "code",
   "execution_count": 5,
   "metadata": {
    "collapsed": true
   },
   "outputs": [],
   "source": [
    "import numpy as np, pandas as pd\n",
    "import warnings\n",
    "warnings.filterwarnings('ignore')\n",
    "from bokeh.plotting import figure, output_file, show\n",
    "from bokeh.models import (\n",
    "    ColumnDataSource,\n",
    "    HoverTool,\n",
    "    LinearColorMapper,\n",
    "    BasicTicker,\n",
    "    PrintfTickFormatter,\n",
    "    ColorBar,\n",
    "    FactorRange\n",
    ")\n",
    "import bokeh.palettes\n",
    "from bokeh.transform import factor_cmap\n",
    "from bokeh.io import output_notebook"
   ]
  },
  {
   "cell_type": "code",
   "execution_count": 6,
   "metadata": {},
   "outputs": [
    {
     "data": {
      "text/html": [
       "\n",
       "    <div class=\"bk-root\">\n",
       "        <a href=\"https://bokeh.pydata.org\" target=\"_blank\" class=\"bk-logo bk-logo-small bk-logo-notebook\"></a>\n",
       "        <span id=\"fe35a118-53a4-4955-9bf3-e1bca025beba\">Loading BokehJS ...</span>\n",
       "    </div>"
      ]
     },
     "metadata": {},
     "output_type": "display_data"
    },
    {
     "data": {
      "application/javascript": [
       "\n",
       "(function(root) {\n",
       "  function now() {\n",
       "    return new Date();\n",
       "  }\n",
       "\n",
       "  var force = true;\n",
       "\n",
       "  if (typeof (root._bokeh_onload_callbacks) === \"undefined\" || force === true) {\n",
       "    root._bokeh_onload_callbacks = [];\n",
       "    root._bokeh_is_loading = undefined;\n",
       "  }\n",
       "\n",
       "  var JS_MIME_TYPE = 'application/javascript';\n",
       "  var HTML_MIME_TYPE = 'text/html';\n",
       "  var EXEC_MIME_TYPE = 'application/vnd.bokehjs_exec.v0+json';\n",
       "  var CLASS_NAME = 'output_bokeh rendered_html';\n",
       "\n",
       "  /**\n",
       "   * Render data to the DOM node\n",
       "   */\n",
       "  function render(props, node) {\n",
       "    var script = document.createElement(\"script\");\n",
       "    node.appendChild(script);\n",
       "  }\n",
       "\n",
       "  /**\n",
       "   * Handle when an output is cleared or removed\n",
       "   */\n",
       "  function handleClearOutput(event, handle) {\n",
       "    var cell = handle.cell;\n",
       "\n",
       "    var id = cell.output_area._bokeh_element_id;\n",
       "    var server_id = cell.output_area._bokeh_server_id;\n",
       "    // Clean up Bokeh references\n",
       "    if (id !== undefined) {\n",
       "      Bokeh.index[id].model.document.clear();\n",
       "      delete Bokeh.index[id];\n",
       "    }\n",
       "\n",
       "    if (server_id !== undefined) {\n",
       "      // Clean up Bokeh references\n",
       "      var cmd = \"from bokeh.io.state import curstate; print(curstate().uuid_to_server['\" + server_id + \"'].get_sessions()[0].document.roots[0]._id)\";\n",
       "      cell.notebook.kernel.execute(cmd, {\n",
       "        iopub: {\n",
       "          output: function(msg) {\n",
       "            var element_id = msg.content.text.trim();\n",
       "            Bokeh.index[element_id].model.document.clear();\n",
       "            delete Bokeh.index[element_id];\n",
       "          }\n",
       "        }\n",
       "      });\n",
       "      // Destroy server and session\n",
       "      var cmd = \"import bokeh.io.notebook as ion; ion.destroy_server('\" + server_id + \"')\";\n",
       "      cell.notebook.kernel.execute(cmd);\n",
       "    }\n",
       "  }\n",
       "\n",
       "  /**\n",
       "   * Handle when a new output is added\n",
       "   */\n",
       "  function handleAddOutput(event, handle) {\n",
       "    var output_area = handle.output_area;\n",
       "    var output = handle.output;\n",
       "\n",
       "    // limit handleAddOutput to display_data with EXEC_MIME_TYPE content only\n",
       "    if ((output.output_type != \"display_data\") || (!output.data.hasOwnProperty(EXEC_MIME_TYPE))) {\n",
       "      return\n",
       "    }\n",
       "\n",
       "    var toinsert = output_area.element.find(`.${CLASS_NAME.split(' ')[0]}`);\n",
       "\n",
       "    if (output.metadata[EXEC_MIME_TYPE][\"id\"] !== undefined) {\n",
       "      toinsert[0].firstChild.textContent = output.data[JS_MIME_TYPE];\n",
       "      // store reference to embed id on output_area\n",
       "      output_area._bokeh_element_id = output.metadata[EXEC_MIME_TYPE][\"id\"];\n",
       "    }\n",
       "    if (output.metadata[EXEC_MIME_TYPE][\"server_id\"] !== undefined) {\n",
       "      var bk_div = document.createElement(\"div\");\n",
       "      bk_div.innerHTML = output.data[HTML_MIME_TYPE];\n",
       "      var script_attrs = bk_div.children[0].attributes;\n",
       "      for (var i = 0; i < script_attrs.length; i++) {\n",
       "        toinsert[0].firstChild.setAttribute(script_attrs[i].name, script_attrs[i].value);\n",
       "      }\n",
       "      // store reference to server id on output_area\n",
       "      output_area._bokeh_server_id = output.metadata[EXEC_MIME_TYPE][\"server_id\"];\n",
       "    }\n",
       "  }\n",
       "\n",
       "  function register_renderer(events, OutputArea) {\n",
       "\n",
       "    function append_mime(data, metadata, element) {\n",
       "      // create a DOM node to render to\n",
       "      var toinsert = this.create_output_subarea(\n",
       "        metadata,\n",
       "        CLASS_NAME,\n",
       "        EXEC_MIME_TYPE\n",
       "      );\n",
       "      this.keyboard_manager.register_events(toinsert);\n",
       "      // Render to node\n",
       "      var props = {data: data, metadata: metadata[EXEC_MIME_TYPE]};\n",
       "      render(props, toinsert[0]);\n",
       "      element.append(toinsert);\n",
       "      return toinsert\n",
       "    }\n",
       "\n",
       "    /* Handle when an output is cleared or removed */\n",
       "    events.on('clear_output.CodeCell', handleClearOutput);\n",
       "    events.on('delete.Cell', handleClearOutput);\n",
       "\n",
       "    /* Handle when a new output is added */\n",
       "    events.on('output_added.OutputArea', handleAddOutput);\n",
       "\n",
       "    /**\n",
       "     * Register the mime type and append_mime function with output_area\n",
       "     */\n",
       "    OutputArea.prototype.register_mime_type(EXEC_MIME_TYPE, append_mime, {\n",
       "      /* Is output safe? */\n",
       "      safe: true,\n",
       "      /* Index of renderer in `output_area.display_order` */\n",
       "      index: 0\n",
       "    });\n",
       "  }\n",
       "\n",
       "  // register the mime type if in Jupyter Notebook environment and previously unregistered\n",
       "  if (root.Jupyter !== undefined) {\n",
       "    var events = require('base/js/events');\n",
       "    var OutputArea = require('notebook/js/outputarea').OutputArea;\n",
       "\n",
       "    if (OutputArea.prototype.mime_types().indexOf(EXEC_MIME_TYPE) == -1) {\n",
       "      register_renderer(events, OutputArea);\n",
       "    }\n",
       "  }\n",
       "\n",
       "  \n",
       "  if (typeof (root._bokeh_timeout) === \"undefined\" || force === true) {\n",
       "    root._bokeh_timeout = Date.now() + 5000;\n",
       "    root._bokeh_failed_load = false;\n",
       "  }\n",
       "\n",
       "  var NB_LOAD_WARNING = {'data': {'text/html':\n",
       "     \"<div style='background-color: #fdd'>\\n\"+\n",
       "     \"<p>\\n\"+\n",
       "     \"BokehJS does not appear to have successfully loaded. If loading BokehJS from CDN, this \\n\"+\n",
       "     \"may be due to a slow or bad network connection. Possible fixes:\\n\"+\n",
       "     \"</p>\\n\"+\n",
       "     \"<ul>\\n\"+\n",
       "     \"<li>re-rerun `output_notebook()` to attempt to load from CDN again, or</li>\\n\"+\n",
       "     \"<li>use INLINE resources instead, as so:</li>\\n\"+\n",
       "     \"</ul>\\n\"+\n",
       "     \"<code>\\n\"+\n",
       "     \"from bokeh.resources import INLINE\\n\"+\n",
       "     \"output_notebook(resources=INLINE)\\n\"+\n",
       "     \"</code>\\n\"+\n",
       "     \"</div>\"}};\n",
       "\n",
       "  function display_loaded() {\n",
       "    var el = document.getElementById(\"fe35a118-53a4-4955-9bf3-e1bca025beba\");\n",
       "    if (el != null) {\n",
       "      el.textContent = \"BokehJS is loading...\";\n",
       "    }\n",
       "    if (root.Bokeh !== undefined) {\n",
       "      if (el != null) {\n",
       "        el.textContent = \"BokehJS \" + root.Bokeh.version + \" successfully loaded.\";\n",
       "      }\n",
       "    } else if (Date.now() < root._bokeh_timeout) {\n",
       "      setTimeout(display_loaded, 100)\n",
       "    }\n",
       "  }\n",
       "\n",
       "\n",
       "  function run_callbacks() {\n",
       "    try {\n",
       "      root._bokeh_onload_callbacks.forEach(function(callback) { callback() });\n",
       "    }\n",
       "    finally {\n",
       "      delete root._bokeh_onload_callbacks\n",
       "    }\n",
       "    console.info(\"Bokeh: all callbacks have finished\");\n",
       "  }\n",
       "\n",
       "  function load_libs(js_urls, callback) {\n",
       "    root._bokeh_onload_callbacks.push(callback);\n",
       "    if (root._bokeh_is_loading > 0) {\n",
       "      console.log(\"Bokeh: BokehJS is being loaded, scheduling callback at\", now());\n",
       "      return null;\n",
       "    }\n",
       "    if (js_urls == null || js_urls.length === 0) {\n",
       "      run_callbacks();\n",
       "      return null;\n",
       "    }\n",
       "    console.log(\"Bokeh: BokehJS not loaded, scheduling load and callback at\", now());\n",
       "    root._bokeh_is_loading = js_urls.length;\n",
       "    for (var i = 0; i < js_urls.length; i++) {\n",
       "      var url = js_urls[i];\n",
       "      var s = document.createElement('script');\n",
       "      s.src = url;\n",
       "      s.async = false;\n",
       "      s.onreadystatechange = s.onload = function() {\n",
       "        root._bokeh_is_loading--;\n",
       "        if (root._bokeh_is_loading === 0) {\n",
       "          console.log(\"Bokeh: all BokehJS libraries loaded\");\n",
       "          run_callbacks()\n",
       "        }\n",
       "      };\n",
       "      s.onerror = function() {\n",
       "        console.warn(\"failed to load library \" + url);\n",
       "      };\n",
       "      console.log(\"Bokeh: injecting script tag for BokehJS library: \", url);\n",
       "      document.getElementsByTagName(\"head\")[0].appendChild(s);\n",
       "    }\n",
       "  };var element = document.getElementById(\"fe35a118-53a4-4955-9bf3-e1bca025beba\");\n",
       "  if (element == null) {\n",
       "    console.log(\"Bokeh: ERROR: autoload.js configured with elementid 'fe35a118-53a4-4955-9bf3-e1bca025beba' but no matching script tag was found. \")\n",
       "    return false;\n",
       "  }\n",
       "\n",
       "  var js_urls = [\"https://cdn.pydata.org/bokeh/release/bokeh-0.12.10.min.js\", \"https://cdn.pydata.org/bokeh/release/bokeh-widgets-0.12.10.min.js\", \"https://cdn.pydata.org/bokeh/release/bokeh-tables-0.12.10.min.js\", \"https://cdn.pydata.org/bokeh/release/bokeh-gl-0.12.10.min.js\"];\n",
       "\n",
       "  var inline_js = [\n",
       "    function(Bokeh) {\n",
       "      Bokeh.set_log_level(\"info\");\n",
       "    },\n",
       "    \n",
       "    function(Bokeh) {\n",
       "      \n",
       "    },\n",
       "    function(Bokeh) {\n",
       "      console.log(\"Bokeh: injecting CSS: https://cdn.pydata.org/bokeh/release/bokeh-0.12.10.min.css\");\n",
       "      Bokeh.embed.inject_css(\"https://cdn.pydata.org/bokeh/release/bokeh-0.12.10.min.css\");\n",
       "      console.log(\"Bokeh: injecting CSS: https://cdn.pydata.org/bokeh/release/bokeh-widgets-0.12.10.min.css\");\n",
       "      Bokeh.embed.inject_css(\"https://cdn.pydata.org/bokeh/release/bokeh-widgets-0.12.10.min.css\");\n",
       "      console.log(\"Bokeh: injecting CSS: https://cdn.pydata.org/bokeh/release/bokeh-tables-0.12.10.min.css\");\n",
       "      Bokeh.embed.inject_css(\"https://cdn.pydata.org/bokeh/release/bokeh-tables-0.12.10.min.css\");\n",
       "    }\n",
       "  ];\n",
       "\n",
       "  function run_inline_js() {\n",
       "    \n",
       "    if ((root.Bokeh !== undefined) || (force === true)) {\n",
       "      for (var i = 0; i < inline_js.length; i++) {\n",
       "        inline_js[i].call(root, root.Bokeh);\n",
       "      }if (force === true) {\n",
       "        display_loaded();\n",
       "      }} else if (Date.now() < root._bokeh_timeout) {\n",
       "      setTimeout(run_inline_js, 100);\n",
       "    } else if (!root._bokeh_failed_load) {\n",
       "      console.log(\"Bokeh: BokehJS failed to load within specified timeout.\");\n",
       "      root._bokeh_failed_load = true;\n",
       "    } else if (force !== true) {\n",
       "      var cell = $(document.getElementById(\"fe35a118-53a4-4955-9bf3-e1bca025beba\")).parents('.cell').data().cell;\n",
       "      cell.output_area.append_execute_result(NB_LOAD_WARNING)\n",
       "    }\n",
       "\n",
       "  }\n",
       "\n",
       "  if (root._bokeh_is_loading === 0) {\n",
       "    console.log(\"Bokeh: BokehJS loaded, going straight to plotting\");\n",
       "    run_inline_js();\n",
       "  } else {\n",
       "    load_libs(js_urls, function() {\n",
       "      console.log(\"Bokeh: BokehJS plotting callback run at\", now());\n",
       "      run_inline_js();\n",
       "    });\n",
       "  }\n",
       "}(window));"
      ],
      "application/vnd.bokehjs_load.v0+json": "\n(function(root) {\n  function now() {\n    return new Date();\n  }\n\n  var force = true;\n\n  if (typeof (root._bokeh_onload_callbacks) === \"undefined\" || force === true) {\n    root._bokeh_onload_callbacks = [];\n    root._bokeh_is_loading = undefined;\n  }\n\n  \n\n  \n  if (typeof (root._bokeh_timeout) === \"undefined\" || force === true) {\n    root._bokeh_timeout = Date.now() + 5000;\n    root._bokeh_failed_load = false;\n  }\n\n  var NB_LOAD_WARNING = {'data': {'text/html':\n     \"<div style='background-color: #fdd'>\\n\"+\n     \"<p>\\n\"+\n     \"BokehJS does not appear to have successfully loaded. If loading BokehJS from CDN, this \\n\"+\n     \"may be due to a slow or bad network connection. Possible fixes:\\n\"+\n     \"</p>\\n\"+\n     \"<ul>\\n\"+\n     \"<li>re-rerun `output_notebook()` to attempt to load from CDN again, or</li>\\n\"+\n     \"<li>use INLINE resources instead, as so:</li>\\n\"+\n     \"</ul>\\n\"+\n     \"<code>\\n\"+\n     \"from bokeh.resources import INLINE\\n\"+\n     \"output_notebook(resources=INLINE)\\n\"+\n     \"</code>\\n\"+\n     \"</div>\"}};\n\n  function display_loaded() {\n    var el = document.getElementById(\"fe35a118-53a4-4955-9bf3-e1bca025beba\");\n    if (el != null) {\n      el.textContent = \"BokehJS is loading...\";\n    }\n    if (root.Bokeh !== undefined) {\n      if (el != null) {\n        el.textContent = \"BokehJS \" + root.Bokeh.version + \" successfully loaded.\";\n      }\n    } else if (Date.now() < root._bokeh_timeout) {\n      setTimeout(display_loaded, 100)\n    }\n  }\n\n\n  function run_callbacks() {\n    try {\n      root._bokeh_onload_callbacks.forEach(function(callback) { callback() });\n    }\n    finally {\n      delete root._bokeh_onload_callbacks\n    }\n    console.info(\"Bokeh: all callbacks have finished\");\n  }\n\n  function load_libs(js_urls, callback) {\n    root._bokeh_onload_callbacks.push(callback);\n    if (root._bokeh_is_loading > 0) {\n      console.log(\"Bokeh: BokehJS is being loaded, scheduling callback at\", now());\n      return null;\n    }\n    if (js_urls == null || js_urls.length === 0) {\n      run_callbacks();\n      return null;\n    }\n    console.log(\"Bokeh: BokehJS not loaded, scheduling load and callback at\", now());\n    root._bokeh_is_loading = js_urls.length;\n    for (var i = 0; i < js_urls.length; i++) {\n      var url = js_urls[i];\n      var s = document.createElement('script');\n      s.src = url;\n      s.async = false;\n      s.onreadystatechange = s.onload = function() {\n        root._bokeh_is_loading--;\n        if (root._bokeh_is_loading === 0) {\n          console.log(\"Bokeh: all BokehJS libraries loaded\");\n          run_callbacks()\n        }\n      };\n      s.onerror = function() {\n        console.warn(\"failed to load library \" + url);\n      };\n      console.log(\"Bokeh: injecting script tag for BokehJS library: \", url);\n      document.getElementsByTagName(\"head\")[0].appendChild(s);\n    }\n  };var element = document.getElementById(\"fe35a118-53a4-4955-9bf3-e1bca025beba\");\n  if (element == null) {\n    console.log(\"Bokeh: ERROR: autoload.js configured with elementid 'fe35a118-53a4-4955-9bf3-e1bca025beba' but no matching script tag was found. \")\n    return false;\n  }\n\n  var js_urls = [\"https://cdn.pydata.org/bokeh/release/bokeh-0.12.10.min.js\", \"https://cdn.pydata.org/bokeh/release/bokeh-widgets-0.12.10.min.js\", \"https://cdn.pydata.org/bokeh/release/bokeh-tables-0.12.10.min.js\", \"https://cdn.pydata.org/bokeh/release/bokeh-gl-0.12.10.min.js\"];\n\n  var inline_js = [\n    function(Bokeh) {\n      Bokeh.set_log_level(\"info\");\n    },\n    \n    function(Bokeh) {\n      \n    },\n    function(Bokeh) {\n      console.log(\"Bokeh: injecting CSS: https://cdn.pydata.org/bokeh/release/bokeh-0.12.10.min.css\");\n      Bokeh.embed.inject_css(\"https://cdn.pydata.org/bokeh/release/bokeh-0.12.10.min.css\");\n      console.log(\"Bokeh: injecting CSS: https://cdn.pydata.org/bokeh/release/bokeh-widgets-0.12.10.min.css\");\n      Bokeh.embed.inject_css(\"https://cdn.pydata.org/bokeh/release/bokeh-widgets-0.12.10.min.css\");\n      console.log(\"Bokeh: injecting CSS: https://cdn.pydata.org/bokeh/release/bokeh-tables-0.12.10.min.css\");\n      Bokeh.embed.inject_css(\"https://cdn.pydata.org/bokeh/release/bokeh-tables-0.12.10.min.css\");\n    }\n  ];\n\n  function run_inline_js() {\n    \n    if ((root.Bokeh !== undefined) || (force === true)) {\n      for (var i = 0; i < inline_js.length; i++) {\n        inline_js[i].call(root, root.Bokeh);\n      }if (force === true) {\n        display_loaded();\n      }} else if (Date.now() < root._bokeh_timeout) {\n      setTimeout(run_inline_js, 100);\n    } else if (!root._bokeh_failed_load) {\n      console.log(\"Bokeh: BokehJS failed to load within specified timeout.\");\n      root._bokeh_failed_load = true;\n    } else if (force !== true) {\n      var cell = $(document.getElementById(\"fe35a118-53a4-4955-9bf3-e1bca025beba\")).parents('.cell').data().cell;\n      cell.output_area.append_execute_result(NB_LOAD_WARNING)\n    }\n\n  }\n\n  if (root._bokeh_is_loading === 0) {\n    console.log(\"Bokeh: BokehJS loaded, going straight to plotting\");\n    run_inline_js();\n  } else {\n    load_libs(js_urls, function() {\n      console.log(\"Bokeh: BokehJS plotting callback run at\", now());\n      run_inline_js();\n    });\n  }\n}(window));"
     },
     "metadata": {},
     "output_type": "display_data"
    }
   ],
   "source": [
    "output_notebook()"
   ]
  },
  {
   "cell_type": "markdown",
   "metadata": {},
   "source": [
    "### Loading Data"
   ]
  },
  {
   "cell_type": "code",
   "execution_count": 7,
   "metadata": {},
   "outputs": [],
   "source": [
    "data = pd.read_csv(\"Monthly_Property_Crime_2005_to_2015.csv\")"
   ]
  },
  {
   "cell_type": "code",
   "execution_count": 8,
   "metadata": {},
   "outputs": [
    {
     "data": {
      "text/plain": [
       "(792, 3)"
      ]
     },
     "execution_count": 8,
     "metadata": {},
     "output_type": "execute_result"
    }
   ],
   "source": [
    "data.shape"
   ]
  },
  {
   "cell_type": "code",
   "execution_count": 9,
   "metadata": {},
   "outputs": [
    {
     "data": {
      "text/html": [
       "<div>\n",
       "<style scoped>\n",
       "    .dataframe tbody tr th:only-of-type {\n",
       "        vertical-align: middle;\n",
       "    }\n",
       "\n",
       "    .dataframe tbody tr th {\n",
       "        vertical-align: top;\n",
       "    }\n",
       "\n",
       "    .dataframe thead th {\n",
       "        text-align: right;\n",
       "    }\n",
       "</style>\n",
       "<table border=\"1\" class=\"dataframe\">\n",
       "  <thead>\n",
       "    <tr style=\"text-align: right;\">\n",
       "      <th></th>\n",
       "      <th>Date</th>\n",
       "      <th>Category</th>\n",
       "      <th>IncidntNum</th>\n",
       "    </tr>\n",
       "  </thead>\n",
       "  <tbody>\n",
       "    <tr>\n",
       "      <th>0</th>\n",
       "      <td>02/01/2014 12:00:00 AM</td>\n",
       "      <td>BURGLARY</td>\n",
       "      <td>506</td>\n",
       "    </tr>\n",
       "    <tr>\n",
       "      <th>1</th>\n",
       "      <td>02/01/2007 12:00:00 AM</td>\n",
       "      <td>VANDALISM</td>\n",
       "      <td>531</td>\n",
       "    </tr>\n",
       "    <tr>\n",
       "      <th>2</th>\n",
       "      <td>07/01/2012 12:00:00 AM</td>\n",
       "      <td>BURGLARY</td>\n",
       "      <td>522</td>\n",
       "    </tr>\n",
       "    <tr>\n",
       "      <th>3</th>\n",
       "      <td>07/01/2013 12:00:00 AM</td>\n",
       "      <td>LARCENY/THEFT</td>\n",
       "      <td>3318</td>\n",
       "    </tr>\n",
       "    <tr>\n",
       "      <th>4</th>\n",
       "      <td>08/01/2010 12:00:00 AM</td>\n",
       "      <td>VANDALISM</td>\n",
       "      <td>694</td>\n",
       "    </tr>\n",
       "  </tbody>\n",
       "</table>\n",
       "</div>"
      ],
      "text/plain": [
       "                     Date       Category  IncidntNum\n",
       "0  02/01/2014 12:00:00 AM       BURGLARY         506\n",
       "1  02/01/2007 12:00:00 AM      VANDALISM         531\n",
       "2  07/01/2012 12:00:00 AM       BURGLARY         522\n",
       "3  07/01/2013 12:00:00 AM  LARCENY/THEFT        3318\n",
       "4  08/01/2010 12:00:00 AM      VANDALISM         694"
      ]
     },
     "execution_count": 9,
     "metadata": {},
     "output_type": "execute_result"
    }
   ],
   "source": [
    "data.head(5)"
   ]
  },
  {
   "cell_type": "markdown",
   "metadata": {},
   "source": [
    "### Extracting Year, Month from Date column"
   ]
  },
  {
   "cell_type": "code",
   "execution_count": 10,
   "metadata": {
    "collapsed": true
   },
   "outputs": [],
   "source": [
    "data[\"Date\"] = data[\"Date\"].astype(\"category\").str.slice(0,10)\n",
    "data[\"Date\"] = pd.to_datetime(data[\"Date\"])"
   ]
  },
  {
   "cell_type": "code",
   "execution_count": 11,
   "metadata": {
    "collapsed": true
   },
   "outputs": [],
   "source": [
    "data[\"Year\"] = data[\"Date\"].dt.year\n",
    "data[\"Month\"] = data[\"Date\"].dt.month"
   ]
  },
  {
   "cell_type": "code",
   "execution_count": 12,
   "metadata": {},
   "outputs": [
    {
     "data": {
      "text/html": [
       "<div>\n",
       "<style scoped>\n",
       "    .dataframe tbody tr th:only-of-type {\n",
       "        vertical-align: middle;\n",
       "    }\n",
       "\n",
       "    .dataframe tbody tr th {\n",
       "        vertical-align: top;\n",
       "    }\n",
       "\n",
       "    .dataframe thead th {\n",
       "        text-align: right;\n",
       "    }\n",
       "</style>\n",
       "<table border=\"1\" class=\"dataframe\">\n",
       "  <thead>\n",
       "    <tr style=\"text-align: right;\">\n",
       "      <th></th>\n",
       "      <th>Date</th>\n",
       "      <th>Category</th>\n",
       "      <th>IncidntNum</th>\n",
       "      <th>Year</th>\n",
       "      <th>Month</th>\n",
       "    </tr>\n",
       "  </thead>\n",
       "  <tbody>\n",
       "    <tr>\n",
       "      <th>0</th>\n",
       "      <td>2014-02-01</td>\n",
       "      <td>BURGLARY</td>\n",
       "      <td>506</td>\n",
       "      <td>2014</td>\n",
       "      <td>2</td>\n",
       "    </tr>\n",
       "    <tr>\n",
       "      <th>1</th>\n",
       "      <td>2007-02-01</td>\n",
       "      <td>VANDALISM</td>\n",
       "      <td>531</td>\n",
       "      <td>2007</td>\n",
       "      <td>2</td>\n",
       "    </tr>\n",
       "    <tr>\n",
       "      <th>2</th>\n",
       "      <td>2012-07-01</td>\n",
       "      <td>BURGLARY</td>\n",
       "      <td>522</td>\n",
       "      <td>2012</td>\n",
       "      <td>7</td>\n",
       "    </tr>\n",
       "  </tbody>\n",
       "</table>\n",
       "</div>"
      ],
      "text/plain": [
       "        Date   Category  IncidntNum  Year  Month\n",
       "0 2014-02-01   BURGLARY         506  2014      2\n",
       "1 2007-02-01  VANDALISM         531  2007      2\n",
       "2 2012-07-01   BURGLARY         522  2012      7"
      ]
     },
     "execution_count": 12,
     "metadata": {},
     "output_type": "execute_result"
    }
   ],
   "source": [
    "data.head(3)"
   ]
  },
  {
   "cell_type": "markdown",
   "metadata": {},
   "source": [
    "### 1.  Bar Chart"
   ]
  },
  {
   "cell_type": "markdown",
   "metadata": {},
   "source": [
    "Grouping data by years to see the trend of criminal incidents vs year"
   ]
  },
  {
   "cell_type": "code",
   "execution_count": 13,
   "metadata": {},
   "outputs": [
    {
     "data": {
      "text/html": [
       "\n",
       "<div class=\"bk-root\">\n",
       "    <div class=\"bk-plotdiv\" id=\"e3686cef-bc08-4c9f-a530-e16cf68766cd\"></div>\n",
       "</div>"
      ]
     },
     "metadata": {},
     "output_type": "display_data"
    },
    {
     "data": {
      "application/javascript": [
       "(function(root) {\n",
       "  function embed_document(root) {\n",
       "    var docs_json = {\"22a98bcf-d3be-4fb7-9fb3-d7a34969554c\":{\"roots\":{\"references\":[{\"attributes\":{\"axis_label\":\"Year\",\"formatter\":{\"id\":\"9b786dc4-3b85-4ea5-a2c9-7088f1457933\",\"type\":\"BasicTickFormatter\"},\"plot\":{\"id\":\"7d4f018c-bcff-433d-b769-e904c2fb3f3e\",\"subtype\":\"Figure\",\"type\":\"Plot\"},\"ticker\":{\"id\":\"91b8599a-b6cc-4444-ac44-94893ee1d667\",\"type\":\"BasicTicker\"}},\"id\":\"60ed6abe-79b4-445b-b3d7-34089a4f86da\",\"type\":\"LinearAxis\"},{\"attributes\":{},\"id\":\"91b8599a-b6cc-4444-ac44-94893ee1d667\",\"type\":\"BasicTicker\"},{\"attributes\":{\"plot\":{\"id\":\"7d4f018c-bcff-433d-b769-e904c2fb3f3e\",\"subtype\":\"Figure\",\"type\":\"Plot\"},\"ticker\":{\"id\":\"91b8599a-b6cc-4444-ac44-94893ee1d667\",\"type\":\"BasicTicker\"}},\"id\":\"38f66c57-dd07-43da-9d7e-0ca50c2fbdea\",\"type\":\"Grid\"},{\"attributes\":{\"fill_alpha\":{\"value\":0.1},\"fill_color\":{\"value\":\"#1f77b4\"},\"line_alpha\":{\"value\":0.1},\"line_color\":{\"value\":\"#1f77b4\"},\"top\":{\"field\":\"top\"},\"width\":{\"value\":1},\"x\":{\"field\":\"x\"}},\"id\":\"4c5c7fc7-b268-406b-b76c-269f95c1b600\",\"type\":\"VBar\"},{\"attributes\":{\"axis_label\":\"Number of Criminal Incidents\",\"formatter\":{\"id\":\"8e899657-bbb3-4f3a-bfd2-c67406d02bde\",\"type\":\"BasicTickFormatter\"},\"plot\":{\"id\":\"7d4f018c-bcff-433d-b769-e904c2fb3f3e\",\"subtype\":\"Figure\",\"type\":\"Plot\"},\"ticker\":{\"id\":\"c70a9cf8-20f9-4400-8f5a-6ae38fe19865\",\"type\":\"BasicTicker\"}},\"id\":\"c82a73e0-3940-4969-9ba6-990a8d9a53ce\",\"type\":\"LinearAxis\"},{\"attributes\":{\"fill_color\":{\"value\":\"#1f77b4\"},\"line_color\":{\"value\":\"white\"},\"top\":{\"field\":\"top\"},\"width\":{\"value\":1},\"x\":{\"field\":\"x\"}},\"id\":\"1b1b7b1f-5c96-4045-9d3b-82df08fa587e\",\"type\":\"VBar\"},{\"attributes\":{\"callback\":null},\"id\":\"c851ece5-7b40-4be3-ac90-dc8617811eae\",\"type\":\"DataRange1d\"},{\"attributes\":{},\"id\":\"c70a9cf8-20f9-4400-8f5a-6ae38fe19865\",\"type\":\"BasicTicker\"},{\"attributes\":{\"dimension\":1,\"plot\":{\"id\":\"7d4f018c-bcff-433d-b769-e904c2fb3f3e\",\"subtype\":\"Figure\",\"type\":\"Plot\"},\"ticker\":{\"id\":\"c70a9cf8-20f9-4400-8f5a-6ae38fe19865\",\"type\":\"BasicTicker\"}},\"id\":\"73738ca8-9e14-4ced-a0fe-eb7500fef2b7\",\"type\":\"Grid\"},{\"attributes\":{\"bottom_units\":\"screen\",\"fill_alpha\":{\"value\":0.5},\"fill_color\":{\"value\":\"lightgrey\"},\"left_units\":\"screen\",\"level\":\"overlay\",\"line_alpha\":{\"value\":1.0},\"line_color\":{\"value\":\"black\"},\"line_dash\":[4,4],\"line_width\":{\"value\":2},\"plot\":null,\"render_mode\":\"css\",\"right_units\":\"screen\",\"top_units\":\"screen\"},\"id\":\"d7e50cbb-1245-4d10-9151-7e0e278473c0\",\"type\":\"BoxAnnotation\"},{\"attributes\":{\"plot\":null,\"text\":\"Total Number of Criminal Incidents vs Year\"},\"id\":\"703f1470-82f3-4a34-b7a9-8fc5b3006af2\",\"type\":\"Title\"},{\"attributes\":{\"callback\":null,\"column_names\":[\"x\",\"top\"],\"data\":{\"top\":[58368,50150,46023,45647,44633,42581,43885,52379,57241,59679,64887],\"x\":[2005,2006,2007,2008,2009,2010,2011,2012,2013,2014,2015]}},\"id\":\"60f42bed-928e-49ab-8d43-6a1f20e8b3a1\",\"type\":\"ColumnDataSource\"},{\"attributes\":{},\"id\":\"8e899657-bbb3-4f3a-bfd2-c67406d02bde\",\"type\":\"BasicTickFormatter\"},{\"attributes\":{},\"id\":\"9b786dc4-3b85-4ea5-a2c9-7088f1457933\",\"type\":\"BasicTickFormatter\"},{\"attributes\":{\"callback\":null},\"id\":\"da020e77-7886-4da7-9074-c39b9d1980c0\",\"type\":\"HoverTool\"},{\"attributes\":{\"source\":{\"id\":\"60f42bed-928e-49ab-8d43-6a1f20e8b3a1\",\"type\":\"ColumnDataSource\"}},\"id\":\"2ad55fe2-f1f3-4964-93b0-0c275bb19537\",\"type\":\"CDSView\"},{\"attributes\":{},\"id\":\"3239f6bb-670c-4c27-bb87-fc2d095fe6c5\",\"type\":\"SaveTool\"},{\"attributes\":{\"active_drag\":\"auto\",\"active_inspect\":\"auto\",\"active_scroll\":\"auto\",\"active_tap\":\"auto\",\"tools\":[{\"id\":\"da020e77-7886-4da7-9074-c39b9d1980c0\",\"type\":\"HoverTool\"},{\"id\":\"3239f6bb-670c-4c27-bb87-fc2d095fe6c5\",\"type\":\"SaveTool\"},{\"id\":\"7a883d2e-53bb-4495-9a21-d1575b7a90bf\",\"type\":\"PanTool\"},{\"id\":\"1e64a05d-92bf-4e92-8297-d07cbe9f2ead\",\"type\":\"BoxZoomTool\"},{\"id\":\"3bed13e7-8982-4372-97f2-773eaf397dcf\",\"type\":\"ResetTool\"},{\"id\":\"2f0ef89a-ca5e-4b15-a9ff-2f3a388920c2\",\"type\":\"WheelZoomTool\"}]},\"id\":\"51e1248a-5a9f-4f3e-8a69-6cb8c2109739\",\"type\":\"Toolbar\"},{\"attributes\":{},\"id\":\"7a883d2e-53bb-4495-9a21-d1575b7a90bf\",\"type\":\"PanTool\"},{\"attributes\":{\"below\":[{\"id\":\"60ed6abe-79b4-445b-b3d7-34089a4f86da\",\"type\":\"LinearAxis\"}],\"left\":[{\"id\":\"c82a73e0-3940-4969-9ba6-990a8d9a53ce\",\"type\":\"LinearAxis\"}],\"renderers\":[{\"id\":\"60ed6abe-79b4-445b-b3d7-34089a4f86da\",\"type\":\"LinearAxis\"},{\"id\":\"38f66c57-dd07-43da-9d7e-0ca50c2fbdea\",\"type\":\"Grid\"},{\"id\":\"c82a73e0-3940-4969-9ba6-990a8d9a53ce\",\"type\":\"LinearAxis\"},{\"id\":\"73738ca8-9e14-4ced-a0fe-eb7500fef2b7\",\"type\":\"Grid\"},{\"id\":\"d7e50cbb-1245-4d10-9151-7e0e278473c0\",\"type\":\"BoxAnnotation\"},{\"id\":\"9a647e0b-2312-43ad-8b5f-850a6dccaf8c\",\"type\":\"GlyphRenderer\"}],\"title\":{\"id\":\"703f1470-82f3-4a34-b7a9-8fc5b3006af2\",\"type\":\"Title\"},\"toolbar\":{\"id\":\"51e1248a-5a9f-4f3e-8a69-6cb8c2109739\",\"type\":\"Toolbar\"},\"x_range\":{\"id\":\"c851ece5-7b40-4be3-ac90-dc8617811eae\",\"type\":\"DataRange1d\"},\"x_scale\":{\"id\":\"d2d3c868-4cb5-457e-aae1-c86dc27530d2\",\"type\":\"LinearScale\"},\"y_range\":{\"id\":\"f7293e3c-3672-415a-b1ee-453007f9ec45\",\"type\":\"DataRange1d\"},\"y_scale\":{\"id\":\"300d1447-21c2-475d-ab17-cb8403e308cf\",\"type\":\"LinearScale\"}},\"id\":\"7d4f018c-bcff-433d-b769-e904c2fb3f3e\",\"subtype\":\"Figure\",\"type\":\"Plot\"},{\"attributes\":{},\"id\":\"d2d3c868-4cb5-457e-aae1-c86dc27530d2\",\"type\":\"LinearScale\"},{\"attributes\":{\"overlay\":{\"id\":\"d7e50cbb-1245-4d10-9151-7e0e278473c0\",\"type\":\"BoxAnnotation\"}},\"id\":\"1e64a05d-92bf-4e92-8297-d07cbe9f2ead\",\"type\":\"BoxZoomTool\"},{\"attributes\":{},\"id\":\"3bed13e7-8982-4372-97f2-773eaf397dcf\",\"type\":\"ResetTool\"},{\"attributes\":{\"callback\":null},\"id\":\"f7293e3c-3672-415a-b1ee-453007f9ec45\",\"type\":\"DataRange1d\"},{\"attributes\":{},\"id\":\"2f0ef89a-ca5e-4b15-a9ff-2f3a388920c2\",\"type\":\"WheelZoomTool\"},{\"attributes\":{},\"id\":\"300d1447-21c2-475d-ab17-cb8403e308cf\",\"type\":\"LinearScale\"},{\"attributes\":{\"data_source\":{\"id\":\"60f42bed-928e-49ab-8d43-6a1f20e8b3a1\",\"type\":\"ColumnDataSource\"},\"glyph\":{\"id\":\"1b1b7b1f-5c96-4045-9d3b-82df08fa587e\",\"type\":\"VBar\"},\"hover_glyph\":null,\"muted_glyph\":null,\"nonselection_glyph\":{\"id\":\"4c5c7fc7-b268-406b-b76c-269f95c1b600\",\"type\":\"VBar\"},\"selection_glyph\":null,\"view\":{\"id\":\"2ad55fe2-f1f3-4964-93b0-0c275bb19537\",\"type\":\"CDSView\"}},\"id\":\"9a647e0b-2312-43ad-8b5f-850a6dccaf8c\",\"type\":\"GlyphRenderer\"}],\"root_ids\":[\"7d4f018c-bcff-433d-b769-e904c2fb3f3e\"]},\"title\":\"Bokeh Application\",\"version\":\"0.12.10\"}};\n",
       "    var render_items = [{\"docid\":\"22a98bcf-d3be-4fb7-9fb3-d7a34969554c\",\"elementid\":\"e3686cef-bc08-4c9f-a530-e16cf68766cd\",\"modelid\":\"7d4f018c-bcff-433d-b769-e904c2fb3f3e\"}];\n",
       "\n",
       "    root.Bokeh.embed.embed_items(docs_json, render_items);\n",
       "  }\n",
       "\n",
       "  if (root.Bokeh !== undefined) {\n",
       "    embed_document(root);\n",
       "  } else {\n",
       "    var attempts = 0;\n",
       "    var timer = setInterval(function(root) {\n",
       "      if (root.Bokeh !== undefined) {\n",
       "        embed_document(root);\n",
       "        clearInterval(timer);\n",
       "      }\n",
       "      attempts++;\n",
       "      if (attempts > 100) {\n",
       "        console.log(\"Bokeh: ERROR: Unable to embed document because BokehJS library is missing\")\n",
       "        clearInterval(timer);\n",
       "      }\n",
       "    }, 10, root)\n",
       "  }\n",
       "})(window);"
      ],
      "application/vnd.bokehjs_exec.v0+json": ""
     },
     "metadata": {
      "application/vnd.bokehjs_exec.v0+json": {
       "id": "7d4f018c-bcff-433d-b769-e904c2fb3f3e"
      }
     },
     "output_type": "display_data"
    }
   ],
   "source": [
    "total_by_year = data.groupby([\"Year\"]).IncidntNum.sum().reset_index()\n",
    "\n",
    "TOOLS = \"hover,save,pan,box_zoom,reset,wheel_zoom\"\n",
    "\n",
    "p = figure(title = \"Total Number of Criminal Incidents vs Year\", \n",
    "           x_axis_label = 'Year', \n",
    "           y_axis_label = 'Number of Criminal Incidents',\n",
    "           tools=TOOLS)\n",
    "\n",
    "p.vbar(x=total_by_year[\"Year\"],\n",
    "       top=total_by_year[\"IncidntNum\"], \n",
    "       width = 1,\n",
    "       line_color=\"white\" )\n",
    "\n",
    "show(p)"
   ]
  },
  {
   "cell_type": "markdown",
   "metadata": {},
   "source": [
    "### 2. HeatMap"
   ]
  },
  {
   "cell_type": "code",
   "execution_count": 14,
   "metadata": {
    "collapsed": true
   },
   "outputs": [],
   "source": [
    "total_by_month = data.groupby([\"Year\",\"Month\"]).IncidntNum.sum().reset_index()"
   ]
  },
  {
   "cell_type": "code",
   "execution_count": 15,
   "metadata": {
    "collapsed": true
   },
   "outputs": [],
   "source": [
    "newdata = ColumnDataSource(total_by_month)"
   ]
  },
  {
   "cell_type": "code",
   "execution_count": 16,
   "metadata": {},
   "outputs": [
    {
     "name": "stderr",
     "output_type": "stream",
     "text": [
      "W-1005 (SNAPPED_TOOLBAR_ANNOTATIONS): Snapped toolbars and annotations on the same side MAY overlap visually: Figure(id='5e533c97-4c45-489b-9521-318091b2261b', ...)\n"
     ]
    },
    {
     "data": {
      "text/html": [
       "\n",
       "<div class=\"bk-root\">\n",
       "    <div class=\"bk-plotdiv\" id=\"e33c9409-0372-4fd1-930e-cbed7d56815a\"></div>\n",
       "</div>"
      ]
     },
     "metadata": {},
     "output_type": "display_data"
    },
    {
     "data": {
      "application/javascript": [
       "(function(root) {\n",
       "  function embed_document(root) {\n",
       "    var docs_json = {\"1528acb5-6249-4df1-b9c2-70b7c34eaf59\":{\"roots\":{\"references\":[{\"attributes\":{\"plot\":null,\"text\":\"Total Number of Criminal Incidents\"},\"id\":\"eba0b2fa-3999-41eb-a475-171f17fd6d21\",\"type\":\"Title\"},{\"attributes\":{},\"id\":\"28544a2a-42ed-4ad2-b775-b61aa038695b\",\"type\":\"WheelZoomTool\"},{\"attributes\":{},\"id\":\"1b9cf05b-095c-45ea-92f6-f2b04006d1d5\",\"type\":\"LinearScale\"},{\"attributes\":{},\"id\":\"6af65130-2d09-4bf8-96e6-d6a3385f438c\",\"type\":\"PanTool\"},{\"attributes\":{\"bottom_units\":\"screen\",\"fill_alpha\":{\"value\":0.5},\"fill_color\":{\"value\":\"lightgrey\"},\"left_units\":\"screen\",\"level\":\"overlay\",\"line_alpha\":{\"value\":1.0},\"line_color\":{\"value\":\"black\"},\"line_dash\":[4,4],\"line_width\":{\"value\":2},\"plot\":null,\"render_mode\":\"css\",\"right_units\":\"screen\",\"top_units\":\"screen\"},\"id\":\"e421fe28-79e1-4315-a89f-d3cfdef59ce4\",\"type\":\"BoxAnnotation\"},{\"attributes\":{},\"id\":\"ca090f89-4a16-4f8e-9ecf-30df271e0175\",\"type\":\"BasicTicker\"},{\"attributes\":{\"dimension\":1,\"plot\":{\"id\":\"5e533c97-4c45-489b-9521-318091b2261b\",\"subtype\":\"Figure\",\"type\":\"Plot\"},\"ticker\":{\"id\":\"ca090f89-4a16-4f8e-9ecf-30df271e0175\",\"type\":\"BasicTicker\"}},\"id\":\"0976d442-e837-48a6-bb41-6dc1e55f03fc\",\"type\":\"Grid\"},{\"attributes\":{\"active_drag\":\"auto\",\"active_inspect\":\"auto\",\"active_scroll\":\"auto\",\"active_tap\":\"auto\",\"tools\":[{\"id\":\"fe4a686a-a39c-439b-b906-bc1f1f25bbb4\",\"type\":\"HoverTool\"},{\"id\":\"1ff20986-b158-4940-aa4c-7fdb24176f3a\",\"type\":\"SaveTool\"},{\"id\":\"6af65130-2d09-4bf8-96e6-d6a3385f438c\",\"type\":\"PanTool\"},{\"id\":\"f4826d5d-8c32-4733-ae15-5984bf207def\",\"type\":\"BoxZoomTool\"},{\"id\":\"e2f79c3b-5c2a-491f-a62b-7058e23ebf1f\",\"type\":\"ResetTool\"},{\"id\":\"28544a2a-42ed-4ad2-b775-b61aa038695b\",\"type\":\"WheelZoomTool\"}]},\"id\":\"d73fad51-2494-4b67-8b63-0718cbefe30f\",\"type\":\"Toolbar\"},{\"attributes\":{\"fill_alpha\":{\"value\":0.1},\"fill_color\":{\"value\":\"#1f77b4\"},\"height\":{\"units\":\"data\",\"value\":1},\"line_alpha\":{\"value\":0.1},\"line_color\":{\"value\":\"#1f77b4\"},\"width\":{\"units\":\"data\",\"value\":1},\"x\":{\"field\":\"Year\"},\"y\":{\"field\":\"Month\"}},\"id\":\"2791d029-6a67-493d-a7af-a87438ea6256\",\"type\":\"Rect\"},{\"attributes\":{\"callback\":null},\"id\":\"6696ba47-d526-4e14-8c1b-43558d451434\",\"type\":\"DataRange1d\"},{\"attributes\":{\"overlay\":{\"id\":\"e421fe28-79e1-4315-a89f-d3cfdef59ce4\",\"type\":\"BoxAnnotation\"}},\"id\":\"f4826d5d-8c32-4733-ae15-5984bf207def\",\"type\":\"BoxZoomTool\"},{\"attributes\":{},\"id\":\"095b4f91-bda8-412c-b31a-f3457f837fb8\",\"type\":\"LinearScale\"},{\"attributes\":{\"axis_label\":\"Month\",\"formatter\":{\"id\":\"48a7b1c6-f541-413f-acaf-c87c46776f5b\",\"type\":\"BasicTickFormatter\"},\"plot\":{\"id\":\"5e533c97-4c45-489b-9521-318091b2261b\",\"subtype\":\"Figure\",\"type\":\"Plot\"},\"ticker\":{\"id\":\"ca090f89-4a16-4f8e-9ecf-30df271e0175\",\"type\":\"BasicTicker\"}},\"id\":\"1faa31ff-d01c-4423-843f-61d04cb7cdd8\",\"type\":\"LinearAxis\"},{\"attributes\":{\"axis_label\":\"Year\",\"formatter\":{\"id\":\"27d58f51-c63b-451d-adee-b522603a3e4a\",\"type\":\"BasicTickFormatter\"},\"plot\":{\"id\":\"5e533c97-4c45-489b-9521-318091b2261b\",\"subtype\":\"Figure\",\"type\":\"Plot\"},\"ticker\":{\"id\":\"8957ad2e-d5fa-43ef-b386-c5c62f8c68a5\",\"type\":\"BasicTicker\"}},\"id\":\"067b85ee-cf87-4047-a639-26705d51eb4b\",\"type\":\"LinearAxis\"},{\"attributes\":{},\"id\":\"e3ed776c-3342-46e1-bc62-02b91fe53d35\",\"type\":\"BasicTickFormatter\"},{\"attributes\":{},\"id\":\"48a7b1c6-f541-413f-acaf-c87c46776f5b\",\"type\":\"BasicTickFormatter\"},{\"attributes\":{},\"id\":\"27d58f51-c63b-451d-adee-b522603a3e4a\",\"type\":\"BasicTickFormatter\"},{\"attributes\":{\"fill_color\":{\"field\":\"IncidntNum\",\"transform\":{\"id\":\"fdd4bb30-3ea9-4808-8e75-a962de837cb9\",\"type\":\"LinearColorMapper\"}},\"height\":{\"units\":\"data\",\"value\":1},\"line_color\":{\"value\":\"#1f77b4\"},\"width\":{\"units\":\"data\",\"value\":1},\"x\":{\"field\":\"Year\"},\"y\":{\"field\":\"Month\"}},\"id\":\"12c8dd51-6e20-415f-9825-8aead9f76d04\",\"type\":\"Rect\"},{\"attributes\":{\"desired_num_ticks\":9},\"id\":\"8da5e4a5-4eef-40a1-a074-caaf671f7074\",\"type\":\"BasicTicker\"},{\"attributes\":{\"plot\":{\"id\":\"5e533c97-4c45-489b-9521-318091b2261b\",\"subtype\":\"Figure\",\"type\":\"Plot\"},\"ticker\":{\"id\":\"8957ad2e-d5fa-43ef-b386-c5c62f8c68a5\",\"type\":\"BasicTicker\"}},\"id\":\"1525ca5d-91fa-4f85-b29b-08f5cd2450a8\",\"type\":\"Grid\"},{\"attributes\":{\"source\":{\"id\":\"c57a9967-bb68-407b-97cf-f2a007b8f014\",\"type\":\"ColumnDataSource\"}},\"id\":\"4aac6365-35f7-45c2-a628-e5ba2de2d762\",\"type\":\"CDSView\"},{\"attributes\":{\"callback\":null},\"id\":\"fe4a686a-a39c-439b-b906-bc1f1f25bbb4\",\"type\":\"HoverTool\"},{\"attributes\":{\"below\":[{\"id\":\"067b85ee-cf87-4047-a639-26705d51eb4b\",\"type\":\"LinearAxis\"}],\"left\":[{\"id\":\"1faa31ff-d01c-4423-843f-61d04cb7cdd8\",\"type\":\"LinearAxis\"}],\"renderers\":[{\"id\":\"067b85ee-cf87-4047-a639-26705d51eb4b\",\"type\":\"LinearAxis\"},{\"id\":\"1525ca5d-91fa-4f85-b29b-08f5cd2450a8\",\"type\":\"Grid\"},{\"id\":\"1faa31ff-d01c-4423-843f-61d04cb7cdd8\",\"type\":\"LinearAxis\"},{\"id\":\"0976d442-e837-48a6-bb41-6dc1e55f03fc\",\"type\":\"Grid\"},{\"id\":\"e421fe28-79e1-4315-a89f-d3cfdef59ce4\",\"type\":\"BoxAnnotation\"},{\"id\":\"feb6fd29-e23d-49be-80d3-51504343969c\",\"type\":\"GlyphRenderer\"},{\"id\":\"0bce8665-f9da-4325-860f-fcfc0ac00d43\",\"type\":\"ColorBar\"}],\"right\":[{\"id\":\"0bce8665-f9da-4325-860f-fcfc0ac00d43\",\"type\":\"ColorBar\"}],\"title\":{\"id\":\"eba0b2fa-3999-41eb-a475-171f17fd6d21\",\"type\":\"Title\"},\"toolbar\":{\"id\":\"d73fad51-2494-4b67-8b63-0718cbefe30f\",\"type\":\"Toolbar\"},\"x_range\":{\"id\":\"72957dcf-ee50-4dc7-9fdf-23233849d30c\",\"type\":\"DataRange1d\"},\"x_scale\":{\"id\":\"1b9cf05b-095c-45ea-92f6-f2b04006d1d5\",\"type\":\"LinearScale\"},\"y_range\":{\"id\":\"6696ba47-d526-4e14-8c1b-43558d451434\",\"type\":\"DataRange1d\"},\"y_scale\":{\"id\":\"095b4f91-bda8-412c-b31a-f3457f837fb8\",\"type\":\"LinearScale\"}},\"id\":\"5e533c97-4c45-489b-9521-318091b2261b\",\"subtype\":\"Figure\",\"type\":\"Plot\"},{\"attributes\":{},\"id\":\"e2f79c3b-5c2a-491f-a62b-7058e23ebf1f\",\"type\":\"ResetTool\"},{\"attributes\":{},\"id\":\"8957ad2e-d5fa-43ef-b386-c5c62f8c68a5\",\"type\":\"BasicTicker\"},{\"attributes\":{},\"id\":\"1ff20986-b158-4940-aa4c-7fdb24176f3a\",\"type\":\"SaveTool\"},{\"attributes\":{\"high\":6009,\"low\":3067,\"palette\":[\"#2166ac\",\"#4393c3\",\"#92c5de\",\"#d1e5f0\",\"#f7f7f7\",\"#fddbc7\",\"#f4a582\",\"#d6604d\",\"#b2182b\"]},\"id\":\"fdd4bb30-3ea9-4808-8e75-a962de837cb9\",\"type\":\"LinearColorMapper\"},{\"attributes\":{\"callback\":null,\"column_names\":[\"Year\",\"Month\",\"IncidntNum\",\"index\"],\"data\":{\"IncidntNum\":[4991,4166,4815,4711,5120,4918,5143,5092,4770,5191,4862,4589,4167,3825,4177,4412,4270,4188,4259,4511,4171,4261,3903,4006,3720,3067,3747,3582,3643,3851,4482,4296,4188,4129,3715,3603,3805,3338,3944,4027,3831,3467,3818,3818,4010,4282,3713,3594,3540,3186,3858,3667,3450,3291,4001,4239,3925,3915,3790,3771,3688,3078,3355,3311,3495,3577,3659,3855,3721,3654,3668,3520,3655,3222,3856,3534,3676,3434,3415,3644,3608,3934,3798,4109,3809,3741,3768,4073,4254,4197,4459,4732,4808,5202,4789,4547,4668,4215,4613,4607,4355,4380,5074,5300,5638,5190,4629,4572,4771,4164,4826,4886,4650,4477,5065,5518,4921,5652,5242,5507,5555,4945,5750,5394,6009,5741,5885,5651,5294,5222,4692,4749],\"Month\":[1,2,3,4,5,6,7,8,9,10,11,12,1,2,3,4,5,6,7,8,9,10,11,12,1,2,3,4,5,6,7,8,9,10,11,12,1,2,3,4,5,6,7,8,9,10,11,12,1,2,3,4,5,6,7,8,9,10,11,12,1,2,3,4,5,6,7,8,9,10,11,12,1,2,3,4,5,6,7,8,9,10,11,12,1,2,3,4,5,6,7,8,9,10,11,12,1,2,3,4,5,6,7,8,9,10,11,12,1,2,3,4,5,6,7,8,9,10,11,12,1,2,3,4,5,6,7,8,9,10,11,12],\"Year\":[2005,2005,2005,2005,2005,2005,2005,2005,2005,2005,2005,2005,2006,2006,2006,2006,2006,2006,2006,2006,2006,2006,2006,2006,2007,2007,2007,2007,2007,2007,2007,2007,2007,2007,2007,2007,2008,2008,2008,2008,2008,2008,2008,2008,2008,2008,2008,2008,2009,2009,2009,2009,2009,2009,2009,2009,2009,2009,2009,2009,2010,2010,2010,2010,2010,2010,2010,2010,2010,2010,2010,2010,2011,2011,2011,2011,2011,2011,2011,2011,2011,2011,2011,2011,2012,2012,2012,2012,2012,2012,2012,2012,2012,2012,2012,2012,2013,2013,2013,2013,2013,2013,2013,2013,2013,2013,2013,2013,2014,2014,2014,2014,2014,2014,2014,2014,2014,2014,2014,2014,2015,2015,2015,2015,2015,2015,2015,2015,2015,2015,2015,2015],\"index\":[0,1,2,3,4,5,6,7,8,9,10,11,12,13,14,15,16,17,18,19,20,21,22,23,24,25,26,27,28,29,30,31,32,33,34,35,36,37,38,39,40,41,42,43,44,45,46,47,48,49,50,51,52,53,54,55,56,57,58,59,60,61,62,63,64,65,66,67,68,69,70,71,72,73,74,75,76,77,78,79,80,81,82,83,84,85,86,87,88,89,90,91,92,93,94,95,96,97,98,99,100,101,102,103,104,105,106,107,108,109,110,111,112,113,114,115,116,117,118,119,120,121,122,123,124,125,126,127,128,129,130,131]}},\"id\":\"c57a9967-bb68-407b-97cf-f2a007b8f014\",\"type\":\"ColumnDataSource\"},{\"attributes\":{\"data_source\":{\"id\":\"c57a9967-bb68-407b-97cf-f2a007b8f014\",\"type\":\"ColumnDataSource\"},\"glyph\":{\"id\":\"12c8dd51-6e20-415f-9825-8aead9f76d04\",\"type\":\"Rect\"},\"hover_glyph\":null,\"muted_glyph\":null,\"nonselection_glyph\":{\"id\":\"2791d029-6a67-493d-a7af-a87438ea6256\",\"type\":\"Rect\"},\"selection_glyph\":null,\"view\":{\"id\":\"4aac6365-35f7-45c2-a628-e5ba2de2d762\",\"type\":\"CDSView\"}},\"id\":\"feb6fd29-e23d-49be-80d3-51504343969c\",\"type\":\"GlyphRenderer\"},{\"attributes\":{\"callback\":null},\"id\":\"72957dcf-ee50-4dc7-9fdf-23233849d30c\",\"type\":\"DataRange1d\"},{\"attributes\":{\"color_mapper\":{\"id\":\"fdd4bb30-3ea9-4808-8e75-a962de837cb9\",\"type\":\"LinearColorMapper\"},\"formatter\":{\"id\":\"e3ed776c-3342-46e1-bc62-02b91fe53d35\",\"type\":\"BasicTickFormatter\"},\"location\":[18,0],\"plot\":{\"id\":\"5e533c97-4c45-489b-9521-318091b2261b\",\"subtype\":\"Figure\",\"type\":\"Plot\"},\"ticker\":{\"id\":\"8da5e4a5-4eef-40a1-a074-caaf671f7074\",\"type\":\"BasicTicker\"}},\"id\":\"0bce8665-f9da-4325-860f-fcfc0ac00d43\",\"type\":\"ColorBar\"}],\"root_ids\":[\"5e533c97-4c45-489b-9521-318091b2261b\"]},\"title\":\"Bokeh Application\",\"version\":\"0.12.10\"}};\n",
       "    var render_items = [{\"docid\":\"1528acb5-6249-4df1-b9c2-70b7c34eaf59\",\"elementid\":\"e33c9409-0372-4fd1-930e-cbed7d56815a\",\"modelid\":\"5e533c97-4c45-489b-9521-318091b2261b\"}];\n",
       "\n",
       "    root.Bokeh.embed.embed_items(docs_json, render_items);\n",
       "  }\n",
       "\n",
       "  if (root.Bokeh !== undefined) {\n",
       "    embed_document(root);\n",
       "  } else {\n",
       "    var attempts = 0;\n",
       "    var timer = setInterval(function(root) {\n",
       "      if (root.Bokeh !== undefined) {\n",
       "        embed_document(root);\n",
       "        clearInterval(timer);\n",
       "      }\n",
       "      attempts++;\n",
       "      if (attempts > 100) {\n",
       "        console.log(\"Bokeh: ERROR: Unable to embed document because BokehJS library is missing\")\n",
       "        clearInterval(timer);\n",
       "      }\n",
       "    }, 10, root)\n",
       "  }\n",
       "})(window);"
      ],
      "application/vnd.bokehjs_exec.v0+json": ""
     },
     "metadata": {
      "application/vnd.bokehjs_exec.v0+json": {
       "id": "5e533c97-4c45-489b-9521-318091b2261b"
      }
     },
     "output_type": "display_data"
    }
   ],
   "source": [
    "mapper = LinearColorMapper(palette=bokeh.palettes.RdBu[9], \n",
    "                           low=total_by_month.IncidntNum.min(), high=total_by_month.IncidntNum.max())\n",
    "\n",
    "TOOLS = \"hover,save,pan,box_zoom,reset,wheel_zoom\"\n",
    "\n",
    "p = figure(title = \"Total Number of Criminal Incidents\",\n",
    "           x_axis_label = 'Year', \n",
    "           y_axis_label = 'Month',\n",
    "           tools=TOOLS,\n",
    "           plot_width = 600)\n",
    "\n",
    "p.rect(x=\"Year\", y=\"Month\",width=1, height=1,source = newdata,\n",
    "       fill_color={'field': 'IncidntNum', 'transform': mapper})\n",
    "\n",
    "color_bar = ColorBar(color_mapper=mapper, location=(18, 0),\n",
    "                     ticker=BasicTicker(desired_num_ticks=9))\n",
    "\n",
    "p.add_layout(color_bar, 'right')\n",
    "show(p)"
   ]
  },
  {
   "cell_type": "markdown",
   "metadata": {},
   "source": [
    "### 3. Multi-Line Plot"
   ]
  },
  {
   "cell_type": "code",
   "execution_count": 17,
   "metadata": {
    "collapsed": true
   },
   "outputs": [],
   "source": [
    "grouped_data = data.groupby([\"Year\",\"Category\"]).IncidntNum.sum().reset_index()"
   ]
  },
  {
   "cell_type": "code",
   "execution_count": 18,
   "metadata": {},
   "outputs": [
    {
     "data": {
      "text/html": [
       "\n",
       "<div class=\"bk-root\">\n",
       "    <div class=\"bk-plotdiv\" id=\"fc17500a-7ad3-4fd6-879b-19462aa7cd50\"></div>\n",
       "</div>"
      ]
     },
     "metadata": {},
     "output_type": "display_data"
    },
    {
     "data": {
      "application/javascript": [
       "(function(root) {\n",
       "  function embed_document(root) {\n",
       "    var docs_json = {\"0e2fe12a-28b3-47ab-a83e-c52ea6c4c2d2\":{\"roots\":{\"references\":[{\"attributes\":{\"plot\":{\"id\":\"7b139411-9320-4b8c-a16e-5d20cf193e75\",\"subtype\":\"Figure\",\"type\":\"Plot\"},\"ticker\":{\"id\":\"2fdea216-708e-4efa-b975-ce319ce26fb7\",\"type\":\"BasicTicker\"}},\"id\":\"b7410874-abe1-43b6-a3d6-d8497628f5fa\",\"type\":\"Grid\"},{\"attributes\":{\"data_source\":{\"id\":\"aa70410a-500c-4ee6-89b9-3e04d3846c99\",\"type\":\"ColumnDataSource\"},\"glyph\":{\"id\":\"a5219bf2-0ede-4802-87b1-3ed09a3ffe30\",\"type\":\"MultiLine\"},\"hover_glyph\":null,\"muted_glyph\":null,\"nonselection_glyph\":{\"id\":\"8cfe6567-4416-4c8b-bded-3e53bb603276\",\"type\":\"MultiLine\"},\"selection_glyph\":null,\"view\":{\"id\":\"fe03e955-8627-403f-b0f9-69318022976d\",\"type\":\"CDSView\"}},\"id\":\"28177b41-cfef-48a4-8185-37dc62c16963\",\"type\":\"GlyphRenderer\"},{\"attributes\":{},\"id\":\"894c94fd-2eaf-4f30-ac2c-71a8486469ea\",\"type\":\"LinearScale\"},{\"attributes\":{},\"id\":\"24e070ef-7afb-4af9-bad6-1aa767b5b72f\",\"type\":\"BasicTicker\"},{\"attributes\":{\"below\":[{\"id\":\"5701c652-928e-4f83-a5de-d743a8c6f855\",\"type\":\"LinearAxis\"}],\"left\":[{\"id\":\"9c4905f4-42bf-47c6-a019-8da7807b3138\",\"type\":\"LinearAxis\"}],\"plot_width\":700,\"renderers\":[{\"id\":\"5701c652-928e-4f83-a5de-d743a8c6f855\",\"type\":\"LinearAxis\"},{\"id\":\"b7410874-abe1-43b6-a3d6-d8497628f5fa\",\"type\":\"Grid\"},{\"id\":\"9c4905f4-42bf-47c6-a019-8da7807b3138\",\"type\":\"LinearAxis\"},{\"id\":\"56dd7433-04e6-4869-be46-aabca325b297\",\"type\":\"Grid\"},{\"id\":\"bbfba99b-072c-4d88-85fb-59eb5f5c5f6d\",\"type\":\"BoxAnnotation\"},{\"id\":\"3fa5f483-b50d-466d-84da-4d03dcd2c670\",\"type\":\"Legend\"},{\"id\":\"28177b41-cfef-48a4-8185-37dc62c16963\",\"type\":\"GlyphRenderer\"}],\"title\":{\"id\":\"2b22a5f6-4ccd-4c4a-9830-c73c652b0692\",\"type\":\"Title\"},\"toolbar\":{\"id\":\"576c3a31-ad13-4ea1-a92b-d8a7745d99f0\",\"type\":\"Toolbar\"},\"x_range\":{\"id\":\"98ee1871-aa10-4151-9b93-23b292076ca7\",\"type\":\"DataRange1d\"},\"x_scale\":{\"id\":\"e4120aa2-2209-4261-8782-7e2639daff49\",\"type\":\"LinearScale\"},\"y_range\":{\"id\":\"86406245-30f6-4494-bebb-72338a7f8708\",\"type\":\"DataRange1d\"},\"y_scale\":{\"id\":\"894c94fd-2eaf-4f30-ac2c-71a8486469ea\",\"type\":\"LinearScale\"}},\"id\":\"7b139411-9320-4b8c-a16e-5d20cf193e75\",\"subtype\":\"Figure\",\"type\":\"Plot\"},{\"attributes\":{},\"id\":\"e4120aa2-2209-4261-8782-7e2639daff49\",\"type\":\"LinearScale\"},{\"attributes\":{\"dimension\":1,\"plot\":{\"id\":\"7b139411-9320-4b8c-a16e-5d20cf193e75\",\"subtype\":\"Figure\",\"type\":\"Plot\"},\"ticker\":{\"id\":\"24e070ef-7afb-4af9-bad6-1aa767b5b72f\",\"type\":\"BasicTicker\"}},\"id\":\"56dd7433-04e6-4869-be46-aabca325b297\",\"type\":\"Grid\"},{\"attributes\":{\"source\":{\"id\":\"aa70410a-500c-4ee6-89b9-3e04d3846c99\",\"type\":\"ColumnDataSource\"}},\"id\":\"fe03e955-8627-403f-b0f9-69318022976d\",\"type\":\"CDSView\"},{\"attributes\":{\"callback\":null},\"id\":\"98ee1871-aa10-4151-9b93-23b292076ca7\",\"type\":\"DataRange1d\"},{\"attributes\":{\"line_alpha\":{\"value\":0.1},\"line_color\":{\"value\":\"#1f77b4\"},\"line_width\":{\"value\":3},\"xs\":{\"field\":\"xs\"},\"ys\":{\"field\":\"ys\"}},\"id\":\"8cfe6567-4416-4c8b-bded-3e53bb603276\",\"type\":\"MultiLine\"},{\"attributes\":{\"callback\":null,\"column_names\":[\"xs\",\"ys\",\"labels\",\"color\"],\"data\":{\"color\":[\"#1f77b4\",\"#ff7f0e\",\"#2ca02c\",\"#d62728\",\"#9467bd\",\"#8c564b\"],\"labels\":[\"ARSON\",\"BURGLARY\",\"LARCENY/THEFT\",\"STOLEN PROPERTY\",\"VANDALISM\",\"VEHICLE THEFT\"],\"xs\":[[2005,2006,2007,2008,2009,2010,2011,2012,2013,2014,2015],[2005,2006,2007,2008,2009,2010,2011,2012,2013,2014,2015],[2005,2006,2007,2008,2009,2010,2011,2012,2013,2014,2015],[2005,2006,2007,2008,2009,2010,2011,2012,2013,2014,2015],[2005,2006,2007,2008,2009,2010,2011,2012,2013,2014,2015],[2005,2006,2007,2008,2009,2010,2011,2012,2013,2014,2015]],\"ys\":[[231,240,246,248,222,209,203,237,248,253,311],[7071,7004,5454,5679,5379,4966,4987,6243,6195,6066,5931],[25319,27352,25770,25807,25585,24446,25905,30976,36412,38003,42068],[540,575,527,518,660,680,785,932,1224,1084,959],[7013,7688,7566,7342,7604,7934,7243,7808,6921,7165,7675],[18194,7291,6460,6053,5183,4346,4762,6183,6241,7108,7943]]}},\"id\":\"aa70410a-500c-4ee6-89b9-3e04d3846c99\",\"type\":\"ColumnDataSource\"},{\"attributes\":{\"axis_label\":\"Year\",\"formatter\":{\"id\":\"d31477be-8ce9-49e0-b3bf-6299a5065735\",\"type\":\"BasicTickFormatter\"},\"plot\":{\"id\":\"7b139411-9320-4b8c-a16e-5d20cf193e75\",\"subtype\":\"Figure\",\"type\":\"Plot\"},\"ticker\":{\"id\":\"2fdea216-708e-4efa-b975-ce319ce26fb7\",\"type\":\"BasicTicker\"}},\"id\":\"5701c652-928e-4f83-a5de-d743a8c6f855\",\"type\":\"LinearAxis\"},{\"attributes\":{\"bottom_units\":\"screen\",\"fill_alpha\":{\"value\":0.5},\"fill_color\":{\"value\":\"lightgrey\"},\"left_units\":\"screen\",\"level\":\"overlay\",\"line_alpha\":{\"value\":1.0},\"line_color\":{\"value\":\"black\"},\"line_dash\":[4,4],\"line_width\":{\"value\":2},\"plot\":null,\"render_mode\":\"css\",\"right_units\":\"screen\",\"top_units\":\"screen\"},\"id\":\"bbfba99b-072c-4d88-85fb-59eb5f5c5f6d\",\"type\":\"BoxAnnotation\"},{\"attributes\":{\"callback\":null},\"id\":\"1a87c43e-ee98-4ca9-8e0d-ce702161bb6c\",\"type\":\"HoverTool\"},{\"attributes\":{},\"id\":\"2fdea216-708e-4efa-b975-ce319ce26fb7\",\"type\":\"BasicTicker\"},{\"attributes\":{\"line_color\":{\"field\":\"color\"},\"line_width\":{\"value\":3},\"xs\":{\"field\":\"xs\"},\"ys\":{\"field\":\"ys\"}},\"id\":\"a5219bf2-0ede-4802-87b1-3ed09a3ffe30\",\"type\":\"MultiLine\"},{\"attributes\":{\"plot\":null,\"text\":\"Number of Yearly Criminal Incidents by each Category\"},\"id\":\"2b22a5f6-4ccd-4c4a-9830-c73c652b0692\",\"type\":\"Title\"},{\"attributes\":{},\"id\":\"e8747aa3-818a-454f-8e35-747f56459da9\",\"type\":\"SaveTool\"},{\"attributes\":{\"axis_label\":\"Number of Incidents\",\"formatter\":{\"id\":\"e11eb7dd-0d90-431c-8d3f-4dd5ba783a3f\",\"type\":\"BasicTickFormatter\"},\"plot\":{\"id\":\"7b139411-9320-4b8c-a16e-5d20cf193e75\",\"subtype\":\"Figure\",\"type\":\"Plot\"},\"ticker\":{\"id\":\"24e070ef-7afb-4af9-bad6-1aa767b5b72f\",\"type\":\"BasicTicker\"}},\"id\":\"9c4905f4-42bf-47c6-a019-8da7807b3138\",\"type\":\"LinearAxis\"},{\"attributes\":{},\"id\":\"fcd516f1-32cb-4232-8473-ac284b6e7350\",\"type\":\"PanTool\"},{\"attributes\":{\"items\":[{\"id\":\"e0d7bea5-4e75-4640-a24d-bf5d52752aec\",\"type\":\"LegendItem\"}],\"location\":\"top_left\",\"plot\":{\"id\":\"7b139411-9320-4b8c-a16e-5d20cf193e75\",\"subtype\":\"Figure\",\"type\":\"Plot\"}},\"id\":\"3fa5f483-b50d-466d-84da-4d03dcd2c670\",\"type\":\"Legend\"},{\"attributes\":{\"overlay\":{\"id\":\"bbfba99b-072c-4d88-85fb-59eb5f5c5f6d\",\"type\":\"BoxAnnotation\"}},\"id\":\"54f48a7c-188f-47b4-8e45-2dfd904f1837\",\"type\":\"BoxZoomTool\"},{\"attributes\":{\"active_drag\":\"auto\",\"active_inspect\":\"auto\",\"active_scroll\":\"auto\",\"active_tap\":\"auto\",\"tools\":[{\"id\":\"1a87c43e-ee98-4ca9-8e0d-ce702161bb6c\",\"type\":\"HoverTool\"},{\"id\":\"e8747aa3-818a-454f-8e35-747f56459da9\",\"type\":\"SaveTool\"},{\"id\":\"fcd516f1-32cb-4232-8473-ac284b6e7350\",\"type\":\"PanTool\"},{\"id\":\"54f48a7c-188f-47b4-8e45-2dfd904f1837\",\"type\":\"BoxZoomTool\"},{\"id\":\"ae564f4a-2591-4700-bf1d-15c91fbb87fc\",\"type\":\"ResetTool\"},{\"id\":\"b037b13a-e6f8-4932-80e0-0266bdf1f30e\",\"type\":\"WheelZoomTool\"}]},\"id\":\"576c3a31-ad13-4ea1-a92b-d8a7745d99f0\",\"type\":\"Toolbar\"},{\"attributes\":{},\"id\":\"ae564f4a-2591-4700-bf1d-15c91fbb87fc\",\"type\":\"ResetTool\"},{\"attributes\":{},\"id\":\"b037b13a-e6f8-4932-80e0-0266bdf1f30e\",\"type\":\"WheelZoomTool\"},{\"attributes\":{\"label\":{\"field\":\"labels\"},\"renderers\":[{\"id\":\"28177b41-cfef-48a4-8185-37dc62c16963\",\"type\":\"GlyphRenderer\"}]},\"id\":\"e0d7bea5-4e75-4640-a24d-bf5d52752aec\",\"type\":\"LegendItem\"},{\"attributes\":{},\"id\":\"d31477be-8ce9-49e0-b3bf-6299a5065735\",\"type\":\"BasicTickFormatter\"},{\"attributes\":{\"callback\":null},\"id\":\"86406245-30f6-4494-bebb-72338a7f8708\",\"type\":\"DataRange1d\"},{\"attributes\":{},\"id\":\"e11eb7dd-0d90-431c-8d3f-4dd5ba783a3f\",\"type\":\"BasicTickFormatter\"}],\"root_ids\":[\"7b139411-9320-4b8c-a16e-5d20cf193e75\"]},\"title\":\"Bokeh Application\",\"version\":\"0.12.10\"}};\n",
       "    var render_items = [{\"docid\":\"0e2fe12a-28b3-47ab-a83e-c52ea6c4c2d2\",\"elementid\":\"fc17500a-7ad3-4fd6-879b-19462aa7cd50\",\"modelid\":\"7b139411-9320-4b8c-a16e-5d20cf193e75\"}];\n",
       "\n",
       "    root.Bokeh.embed.embed_items(docs_json, render_items);\n",
       "  }\n",
       "\n",
       "  if (root.Bokeh !== undefined) {\n",
       "    embed_document(root);\n",
       "  } else {\n",
       "    var attempts = 0;\n",
       "    var timer = setInterval(function(root) {\n",
       "      if (root.Bokeh !== undefined) {\n",
       "        embed_document(root);\n",
       "        clearInterval(timer);\n",
       "      }\n",
       "      attempts++;\n",
       "      if (attempts > 100) {\n",
       "        console.log(\"Bokeh: ERROR: Unable to embed document because BokehJS library is missing\")\n",
       "        clearInterval(timer);\n",
       "      }\n",
       "    }, 10, root)\n",
       "  }\n",
       "})(window);"
      ],
      "application/vnd.bokehjs_exec.v0+json": ""
     },
     "metadata": {
      "application/vnd.bokehjs_exec.v0+json": {
       "id": "7b139411-9320-4b8c-a16e-5d20cf193e75"
      }
     },
     "output_type": "display_data"
    }
   ],
   "source": [
    "dict_group_data = {\"xs\":[grouped_data.loc[(grouped_data[\"Category\"]==name),\"Year\"].values \\\n",
    "                         for name in grouped_data['Category'].unique()],\n",
    "                  \"ys\": [grouped_data.loc[(grouped_data[\"Category\"]==name),\"IncidntNum\"].values\\\n",
    "                         for name in grouped_data['Category'].unique()],\n",
    "                  \"labels\": grouped_data[\"Category\"].unique(),\n",
    "                  \"color\": bokeh.palettes.Category10[6]}\n",
    "\n",
    "source = ColumnDataSource(dict_group_data)\n",
    "\n",
    "TOOLS = \"hover,save,pan,box_zoom,reset,wheel_zoom\"\n",
    "\n",
    "p = figure(x_axis_label = 'Year', \n",
    "           y_axis_label = 'Number of Incidents', \n",
    "           width = 700,\n",
    "           title = \"Number of Yearly Criminal Incidents by each Category\",\n",
    "           tools=TOOLS) \n",
    "\n",
    "p.multi_line(xs= \"xs\", ys= \"ys\", line_color= \"color\", source = source, legend = \"labels\",line_width=3)\n",
    "p.legend.location = \"top_left\"\n",
    "\n",
    "show(p)"
   ]
  },
  {
   "cell_type": "markdown",
   "metadata": {},
   "source": [
    "### 4. Stacked Bar Charts"
   ]
  },
  {
   "cell_type": "code",
   "execution_count": 19,
   "metadata": {},
   "outputs": [
    {
     "data": {
      "text/html": [
       "\n",
       "<div class=\"bk-root\">\n",
       "    <div class=\"bk-plotdiv\" id=\"c9356827-c9be-467a-86a7-823b8be4f329\"></div>\n",
       "</div>"
      ]
     },
     "metadata": {},
     "output_type": "display_data"
    },
    {
     "data": {
      "application/javascript": [
       "(function(root) {\n",
       "  function embed_document(root) {\n",
       "    var docs_json = {\"09a75a65-57be-481e-94cb-aa9e66dde7aa\":{\"roots\":{\"references\":[{\"attributes\":{},\"id\":\"f70499b5-3ea5-42c6-af91-9a6271a4ef14\",\"type\":\"LinearScale\"},{\"attributes\":{},\"id\":\"b66b9c01-54f0-4001-9204-2e155b8d542a\",\"type\":\"CategoricalTickFormatter\"},{\"attributes\":{\"dimension\":1,\"plot\":{\"id\":\"9c431674-82e2-4f83-813e-1f463ccf163f\",\"subtype\":\"Figure\",\"type\":\"Plot\"},\"ticker\":{\"id\":\"1f3e35a0-f195-43ad-b05a-b3c90710652f\",\"type\":\"BasicTicker\"}},\"id\":\"931a54da-0082-4be2-afe1-16385e29b4c5\",\"type\":\"Grid\"},{\"attributes\":{\"callback\":null,\"column_names\":[\"x\",\"counts\"],\"data\":{\"counts\":[248,253,311,6195,6066,5931,36412,38003,42068,1224,1084,959,6921,7165,7675,6241,7108,7943],\"x\":[[\"ARSON\",\"2013\"],[\"ARSON\",\"2014\"],[\"ARSON\",\"2015\"],[\"BURGLARY\",\"2013\"],[\"BURGLARY\",\"2014\"],[\"BURGLARY\",\"2015\"],[\"LARCENY/THEFT\",\"2013\"],[\"LARCENY/THEFT\",\"2014\"],[\"LARCENY/THEFT\",\"2015\"],[\"STOLEN PROPERTY\",\"2013\"],[\"STOLEN PROPERTY\",\"2014\"],[\"STOLEN PROPERTY\",\"2015\"],[\"VANDALISM\",\"2013\"],[\"VANDALISM\",\"2014\"],[\"VANDALISM\",\"2015\"],[\"VEHICLE THEFT\",\"2013\"],[\"VEHICLE THEFT\",\"2014\"],[\"VEHICLE THEFT\",\"2015\"]]}},\"id\":\"6cb13783-04a3-4b5e-8851-224a628db1f0\",\"type\":\"ColumnDataSource\"},{\"attributes\":{\"fill_color\":{\"field\":\"x\",\"transform\":{\"id\":\"972849ae-f2bf-4c86-bfad-4bbf0491af45\",\"type\":\"CategoricalColorMapper\"}},\"line_color\":{\"value\":\"white\"},\"top\":{\"field\":\"counts\"},\"width\":{\"value\":0.9},\"x\":{\"field\":\"x\"}},\"id\":\"91ada69b-98e7-487e-acb4-204560fe3a0e\",\"type\":\"VBar\"},{\"attributes\":{\"fill_alpha\":{\"value\":0.1},\"fill_color\":{\"value\":\"#1f77b4\"},\"line_alpha\":{\"value\":0.1},\"line_color\":{\"value\":\"#1f77b4\"},\"top\":{\"field\":\"counts\"},\"width\":{\"value\":0.9},\"x\":{\"field\":\"x\"}},\"id\":\"37caa7d6-3bbc-495d-97f3-12c7b4b65fcc\",\"type\":\"VBar\"},{\"attributes\":{\"bottom_units\":\"screen\",\"fill_alpha\":{\"value\":0.5},\"fill_color\":{\"value\":\"lightgrey\"},\"left_units\":\"screen\",\"level\":\"overlay\",\"line_alpha\":{\"value\":1.0},\"line_color\":{\"value\":\"black\"},\"line_dash\":[4,4],\"line_width\":{\"value\":2},\"plot\":null,\"render_mode\":\"css\",\"right_units\":\"screen\",\"top_units\":\"screen\"},\"id\":\"65b88989-b29f-4bb6-8e10-d5181498d4dd\",\"type\":\"BoxAnnotation\"},{\"attributes\":{},\"id\":\"5a94864a-3b26-4f3f-b534-4e62167f48bb\",\"type\":\"CategoricalScale\"},{\"attributes\":{\"callback\":null},\"id\":\"291aa2d5-a22f-40d9-b178-1cc32a462dc8\",\"type\":\"HoverTool\"},{\"attributes\":{\"data_source\":{\"id\":\"6cb13783-04a3-4b5e-8851-224a628db1f0\",\"type\":\"ColumnDataSource\"},\"glyph\":{\"id\":\"91ada69b-98e7-487e-acb4-204560fe3a0e\",\"type\":\"VBar\"},\"hover_glyph\":null,\"muted_glyph\":null,\"nonselection_glyph\":{\"id\":\"37caa7d6-3bbc-495d-97f3-12c7b4b65fcc\",\"type\":\"VBar\"},\"selection_glyph\":null,\"view\":{\"id\":\"e8f677b0-b5f6-4b81-aab8-50db55684668\",\"type\":\"CDSView\"}},\"id\":\"6123d4d4-2397-4390-82a8-f72ba92d4a37\",\"type\":\"GlyphRenderer\"},{\"attributes\":{\"callback\":null},\"id\":\"745eef7a-35f9-48f3-8a6c-4f8509690a6b\",\"type\":\"DataRange1d\"},{\"attributes\":{},\"id\":\"7c05ac30-32f1-4bf8-92a2-df4a30abb751\",\"type\":\"SaveTool\"},{\"attributes\":{},\"id\":\"b2e117e4-9d0d-4cb7-8886-d8eb74438302\",\"type\":\"PanTool\"},{\"attributes\":{\"plot\":{\"id\":\"9c431674-82e2-4f83-813e-1f463ccf163f\",\"subtype\":\"Figure\",\"type\":\"Plot\"},\"ticker\":{\"id\":\"e69971f3-657e-4fe7-b92e-31cbeb0f39fb\",\"type\":\"CategoricalTicker\"}},\"id\":\"ce88f390-3d3c-4284-a988-334d1d65b662\",\"type\":\"Grid\"},{\"attributes\":{\"overlay\":{\"id\":\"65b88989-b29f-4bb6-8e10-d5181498d4dd\",\"type\":\"BoxAnnotation\"}},\"id\":\"2c670790-51a2-489e-ba75-e46c9ec14d35\",\"type\":\"BoxZoomTool\"},{\"attributes\":{\"callback\":null,\"factors\":[[\"ARSON\",\"2013\"],[\"ARSON\",\"2014\"],[\"ARSON\",\"2015\"],[\"BURGLARY\",\"2013\"],[\"BURGLARY\",\"2014\"],[\"BURGLARY\",\"2015\"],[\"LARCENY/THEFT\",\"2013\"],[\"LARCENY/THEFT\",\"2014\"],[\"LARCENY/THEFT\",\"2015\"],[\"STOLEN PROPERTY\",\"2013\"],[\"STOLEN PROPERTY\",\"2014\"],[\"STOLEN PROPERTY\",\"2015\"],[\"VANDALISM\",\"2013\"],[\"VANDALISM\",\"2014\"],[\"VANDALISM\",\"2015\"],[\"VEHICLE THEFT\",\"2013\"],[\"VEHICLE THEFT\",\"2014\"],[\"VEHICLE THEFT\",\"2015\"]]},\"id\":\"68adc15d-d2c6-4dbb-b71e-5b9d0a4a3b8f\",\"type\":\"FactorRange\"},{\"attributes\":{},\"id\":\"031b63d2-3d7b-4cac-8f3d-cbda591bab9e\",\"type\":\"ResetTool\"},{\"attributes\":{},\"id\":\"97ece9db-164a-4f0c-af14-f8e727e91192\",\"type\":\"WheelZoomTool\"},{\"attributes\":{},\"id\":\"e69971f3-657e-4fe7-b92e-31cbeb0f39fb\",\"type\":\"CategoricalTicker\"},{\"attributes\":{\"end\":2,\"factors\":[\"2013\",\"2014\",\"2015\"],\"palette\":[\"#1f77b4\",\"#ff7f0e\",\"#2ca02c\"],\"start\":1},\"id\":\"972849ae-f2bf-4c86-bfad-4bbf0491af45\",\"type\":\"CategoricalColorMapper\"},{\"attributes\":{},\"id\":\"bf3cb61a-e115-43c7-8912-d9ef92332739\",\"type\":\"BasicTickFormatter\"},{\"attributes\":{\"below\":[{\"id\":\"0aa9c317-7993-4e7c-a3a5-6da791d36b3d\",\"type\":\"CategoricalAxis\"}],\"left\":[{\"id\":\"753a881d-bda4-4d6c-bc67-b44398bd93bb\",\"type\":\"LinearAxis\"}],\"plot_height\":500,\"plot_width\":700,\"renderers\":[{\"id\":\"0aa9c317-7993-4e7c-a3a5-6da791d36b3d\",\"type\":\"CategoricalAxis\"},{\"id\":\"ce88f390-3d3c-4284-a988-334d1d65b662\",\"type\":\"Grid\"},{\"id\":\"753a881d-bda4-4d6c-bc67-b44398bd93bb\",\"type\":\"LinearAxis\"},{\"id\":\"931a54da-0082-4be2-afe1-16385e29b4c5\",\"type\":\"Grid\"},{\"id\":\"65b88989-b29f-4bb6-8e10-d5181498d4dd\",\"type\":\"BoxAnnotation\"},{\"id\":\"6123d4d4-2397-4390-82a8-f72ba92d4a37\",\"type\":\"GlyphRenderer\"}],\"title\":{\"id\":\"4b49a514-0a44-4956-9c63-2fc8367476af\",\"type\":\"Title\"},\"toolbar\":{\"id\":\"e3252a20-f971-4ede-9f2e-85389449c2b5\",\"type\":\"Toolbar\"},\"toolbar_location\":null,\"x_range\":{\"id\":\"68adc15d-d2c6-4dbb-b71e-5b9d0a4a3b8f\",\"type\":\"FactorRange\"},\"x_scale\":{\"id\":\"5a94864a-3b26-4f3f-b534-4e62167f48bb\",\"type\":\"CategoricalScale\"},\"y_range\":{\"id\":\"745eef7a-35f9-48f3-8a6c-4f8509690a6b\",\"type\":\"DataRange1d\"},\"y_scale\":{\"id\":\"f70499b5-3ea5-42c6-af91-9a6271a4ef14\",\"type\":\"LinearScale\"}},\"id\":\"9c431674-82e2-4f83-813e-1f463ccf163f\",\"subtype\":\"Figure\",\"type\":\"Plot\"},{\"attributes\":{\"source\":{\"id\":\"6cb13783-04a3-4b5e-8851-224a628db1f0\",\"type\":\"ColumnDataSource\"}},\"id\":\"e8f677b0-b5f6-4b81-aab8-50db55684668\",\"type\":\"CDSView\"},{\"attributes\":{},\"id\":\"1f3e35a0-f195-43ad-b05a-b3c90710652f\",\"type\":\"BasicTicker\"},{\"attributes\":{\"active_drag\":\"auto\",\"active_inspect\":\"auto\",\"active_scroll\":\"auto\",\"active_tap\":\"auto\",\"tools\":[{\"id\":\"291aa2d5-a22f-40d9-b178-1cc32a462dc8\",\"type\":\"HoverTool\"},{\"id\":\"7c05ac30-32f1-4bf8-92a2-df4a30abb751\",\"type\":\"SaveTool\"},{\"id\":\"b2e117e4-9d0d-4cb7-8886-d8eb74438302\",\"type\":\"PanTool\"},{\"id\":\"2c670790-51a2-489e-ba75-e46c9ec14d35\",\"type\":\"BoxZoomTool\"},{\"id\":\"031b63d2-3d7b-4cac-8f3d-cbda591bab9e\",\"type\":\"ResetTool\"},{\"id\":\"97ece9db-164a-4f0c-af14-f8e727e91192\",\"type\":\"WheelZoomTool\"}]},\"id\":\"e3252a20-f971-4ede-9f2e-85389449c2b5\",\"type\":\"Toolbar\"},{\"attributes\":{\"formatter\":{\"id\":\"b66b9c01-54f0-4001-9204-2e155b8d542a\",\"type\":\"CategoricalTickFormatter\"},\"plot\":{\"id\":\"9c431674-82e2-4f83-813e-1f463ccf163f\",\"subtype\":\"Figure\",\"type\":\"Plot\"},\"ticker\":{\"id\":\"e69971f3-657e-4fe7-b92e-31cbeb0f39fb\",\"type\":\"CategoricalTicker\"}},\"id\":\"0aa9c317-7993-4e7c-a3a5-6da791d36b3d\",\"type\":\"CategoricalAxis\"},{\"attributes\":{\"plot\":null,\"text\":\"Incidents by Category for last 3 Years\"},\"id\":\"4b49a514-0a44-4956-9c63-2fc8367476af\",\"type\":\"Title\"},{\"attributes\":{\"axis_label\":\"Number of Incidents\",\"formatter\":{\"id\":\"bf3cb61a-e115-43c7-8912-d9ef92332739\",\"type\":\"BasicTickFormatter\"},\"plot\":{\"id\":\"9c431674-82e2-4f83-813e-1f463ccf163f\",\"subtype\":\"Figure\",\"type\":\"Plot\"},\"ticker\":{\"id\":\"1f3e35a0-f195-43ad-b05a-b3c90710652f\",\"type\":\"BasicTicker\"}},\"id\":\"753a881d-bda4-4d6c-bc67-b44398bd93bb\",\"type\":\"LinearAxis\"}],\"root_ids\":[\"9c431674-82e2-4f83-813e-1f463ccf163f\"]},\"title\":\"Bokeh Application\",\"version\":\"0.12.10\"}};\n",
       "    var render_items = [{\"docid\":\"09a75a65-57be-481e-94cb-aa9e66dde7aa\",\"elementid\":\"c9356827-c9be-467a-86a7-823b8be4f329\",\"modelid\":\"9c431674-82e2-4f83-813e-1f463ccf163f\"}];\n",
       "\n",
       "    root.Bokeh.embed.embed_items(docs_json, render_items);\n",
       "  }\n",
       "\n",
       "  if (root.Bokeh !== undefined) {\n",
       "    embed_document(root);\n",
       "  } else {\n",
       "    var attempts = 0;\n",
       "    var timer = setInterval(function(root) {\n",
       "      if (root.Bokeh !== undefined) {\n",
       "        embed_document(root);\n",
       "        clearInterval(timer);\n",
       "      }\n",
       "      attempts++;\n",
       "      if (attempts > 100) {\n",
       "        console.log(\"Bokeh: ERROR: Unable to embed document because BokehJS library is missing\")\n",
       "        clearInterval(timer);\n",
       "      }\n",
       "    }, 10, root)\n",
       "  }\n",
       "})(window);"
      ],
      "application/vnd.bokehjs_exec.v0+json": ""
     },
     "metadata": {
      "application/vnd.bokehjs_exec.v0+json": {
       "id": "9c431674-82e2-4f83-813e-1f463ccf163f"
      }
     },
     "output_type": "display_data"
    }
   ],
   "source": [
    "categories = grouped_data[\"Category\"].unique()\n",
    "years = ['2013','2014', '2015']\n",
    "\n",
    "data_2 = {'Categories' : categories,\n",
    "        '2013'   : grouped_data.loc[(grouped_data[\"Year\"]==2013),\"IncidntNum\"],\n",
    "        '2014'   : grouped_data.loc[(grouped_data[\"Year\"]==2014),\"IncidntNum\"],\n",
    "        '2015'   : grouped_data.loc[(grouped_data[\"Year\"]==2015),\"IncidntNum\"]}\n",
    "\n",
    "\n",
    "x = [ (category, year) for category in categories for year in years ]\n",
    "counts = sum(zip(data_2['2013'], data_2['2014'], data_2['2015']),()) # like an hstack\n",
    "\n",
    "source = ColumnDataSource(data=dict(x=x, counts=counts))\n",
    "\n",
    "TOOLS = \"hover,save,pan,box_zoom,reset,wheel_zoom\"\n",
    "\n",
    "p = figure(x_range=FactorRange(*x), \n",
    "           height=500,\n",
    "           width = 700,\n",
    "           title=\"Incidents by Category for last 3 Years\",\n",
    "           toolbar_location=None, \n",
    "           tools=TOOLS, \n",
    "           y_axis_label = 'Number of Incidents')\n",
    "\n",
    "p.vbar(x='x', \n",
    "       top='counts', \n",
    "       width=0.9, \n",
    "       source=source, \n",
    "       line_color=\"white\",\n",
    "       fill_color=factor_cmap('x', palette=bokeh.palettes.Category10[3], factors=years, start=1, end=2))\n",
    "\n",
    "show(p)"
   ]
  },
  {
   "cell_type": "code",
   "execution_count": null,
   "metadata": {
    "collapsed": true
   },
   "outputs": [],
   "source": []
  }
 ],
 "metadata": {
  "hide_input": false,
  "kernelspec": {
   "display_name": "Python 3",
   "language": "python",
   "name": "python3"
  },
  "language_info": {
   "codemirror_mode": {
    "name": "ipython",
    "version": 3
   },
   "file_extension": ".py",
   "mimetype": "text/x-python",
   "name": "python",
   "nbconvert_exporter": "python",
   "pygments_lexer": "ipython3",
   "version": "3.6.3"
  }
 },
 "nbformat": 4,
 "nbformat_minor": 2
}
